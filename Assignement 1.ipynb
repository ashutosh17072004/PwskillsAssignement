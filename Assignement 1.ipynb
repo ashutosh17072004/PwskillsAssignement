{
 "cells": [
  {
   "cell_type": "code",
   "execution_count": 22,
   "id": "2c3f1084-f1ad-4185-b173-7c9e6600b8aa",
   "metadata": {},
   "outputs": [
    {
     "name": "stdout",
     "output_type": "stream",
     "text": [
      "<class 'str'>\n",
      "<class 'list'>\n",
      "<class 'float'>\n",
      "<class 'tuple'>\n"
     ]
    }
   ],
   "source": [
    "\"\"\" Q1. Create one varable containing following type of data.\n",
    "(1) String\n",
    "(2) List\n",
    "(3) Float\n",
    "(4) Tuple  \"\"\"\n",
    "\n",
    "# solution (1):  Create one varable containing String type of data.\n",
    "a = \"My name is Ashutosh Tiwwari.\"\n",
    "print(type(a))\n",
    "\n",
    "# solution (2):  Create one varable containing List type of data.\n",
    "b = [47.2,78,\"Piyush\",[24,89.77,\"Ashutosh\"]]\n",
    "print(type(b))\n",
    "\n",
    "# solution (3):  Create one varable containing Float type of data.\n",
    "c = 47.22\n",
    "print(type(c))\n",
    "\n",
    "# solution (4): Create one varable containing Tuple type of data.\n",
    "d = (12.5,57,\"Asus VIvobook\",(940,68.9,\"IIMT University\"))\n",
    "print(type(d))\n"
   ]
  },
  {
   "cell_type": "code",
   "execution_count": 21,
   "id": "0c72928f-3efe-4c69-a634-1e9a6a04095d",
   "metadata": {},
   "outputs": [
    {
     "name": "stdout",
     "output_type": "stream",
     "text": [
      "<class 'str'>\n",
      "<class 'str'>\n",
      "<class 'list'>\n",
      "<class 'list'>\n",
      "<class 'int'>\n"
     ]
    }
   ],
   "source": [
    "\"\"\" Q2. Given are some following variable containg data.\n",
    "(1) Var1 = \" \"\n",
    "(2) Var2 = '[DS, ML, Python]'\n",
    "(3) Var3 = ['DS', 'ML', 'Python']\n",
    "(4) Var4 = 1 \"\"\"\n",
    "\n",
    "# Solution (1): Var1 = \" \"\n",
    "Var1 = \" \"\n",
    "print(type(Var1))\n",
    "\n",
    "# Solution (2): Var2 = '[DS, ML, Python]'\n",
    "Var2 = '[DS, ML, Python]'\n",
    "print(type(Var2))\n",
    "\n",
    "# Solution (3):\n",
    "Var3 = ['DS','ML','Python']\n",
    "print(type(Var3))\n",
    "\n",
    "# Solution (3):\n",
    "Var3 = [1]\n",
    "print(type(Var3))\n",
    "\n",
    "# Solution (1): Var4 = 1\n",
    "Var4 = 1\n",
    "print(type(Var4))\n"
   ]
  },
  {
   "cell_type": "code",
   "execution_count": null,
   "id": "510ed62d-8d8e-4714-8501-f972ee909410",
   "metadata": {},
   "outputs": [],
   "source": [
    "''' Q3. Explain the use of the following operators using an example:\n",
    "(1) /\n",
    "(2) %\n",
    "(3) //\n",
    "() ** '''\n",
    "\n",
    "# Solution (1): / {This is type of Arithmetic Operator which is used to do divide operation between two operand}\n",
    "a = 56\n",
    "b = 2\n",
    "y = a/b\n",
    "print(y)\n",
    "# a & b are two operands. If we divides 56 from 2 we get 28.0\n",
    "\n",
    "# Solution (2): % {This is type of Arithmetic Operator which is used to find the remainder between two operand}\n",
    "a = 56\n",
    "b = 2\n",
    "x = a%b\n",
    "print(x)\n",
    "# a & b are two operands. If we divides 56 from 2 we get the remainder 0.\n",
    "\n",
    "# Solution (3): // {This is type of Arithmetic Operator which is used to do divide operation between two operand\n",
    "a = 56\n",
    "b = 2\n",
    "z = a//b\n",
    "print(z)\n",
    "# a & b are two operands. If we divide 56 from 2 we get the mod floor value that is 28.\n",
    "\n",
    "# Solution (4): ** {This is type of Arithmetic Operator which is used to find the exponent of a given number}\n",
    "a = 56\n",
    "b = 2\n",
    "w = a**b\n",
    "print(w)\n",
    "# a & b are two operands. If we find the square of 56. we get 3136"
   ]
  },
  {
   "cell_type": "code",
   "execution_count": 1,
   "id": "c3b9aaf6-3b2a-4a09-b147-1d0dc058c76d",
   "metadata": {},
   "outputs": [
    {
     "name": "stdout",
     "output_type": "stream",
     "text": [
      "The length of given list is 10\n",
      "                  \n",
      "12 <class 'int'>\n",
      "12.23 <class 'float'>\n",
      "Ashutosh <class 'str'>\n",
      "True <class 'bool'>\n",
      "(41, 560) <class 'tuple'>\n",
      "[345, 'Asus Vivobook'] <class 'list'>\n",
      "{'a': 75} <class 'dict'>\n",
      "  <class 'str'>\n",
      "0.0 <class 'float'>\n",
      "0 <class 'int'>\n"
     ]
    }
   ],
   "source": [
    "\"\"\" Q4. Create a list of length 10 of your choice containing multiple types of data. Using for loop print the\n",
    "element and its data type. \"\"\"\n",
    "\n",
    "# Solution:\n",
    "\n",
    "list_1 = [12,12.23,\"Ashutosh\",True,(41,560),[345,\"Asus Vivobook\"],{'a':75},\" \", 0.00,0]\n",
    "y = len(list_1)\n",
    "print(\"The length of given list is\",y)\n",
    "print(\"                  \")\n",
    "for item in list_1:\n",
    "    print(item, type(item))\n",
    "\n"
   ]
  },
  {
   "cell_type": "code",
   "execution_count": 15,
   "id": "c506225e-25c0-4680-b043-ee327029564d",
   "metadata": {},
   "outputs": [
    {
     "name": "stdout",
     "output_type": "stream",
     "text": [
      "The length of list is 25\n",
      "The items which are divisble by 3 are given as follows.\n",
      "21\n",
      "18\n",
      "45\n",
      "99\n",
      "48\n",
      "33\n",
      "12\n",
      "2331\n",
      "999\n",
      "234\n",
      "453\n",
      "5121\n",
      "477\n",
      "45\n",
      "63\n"
     ]
    }
   ],
   "source": [
    "\"\"\" Q6. Create a list containing 25 int type data. Using for loop and if-else condition print if the element is divisible by 3 or not. \"\"\"\n",
    "\n",
    "# Solution:\n",
    "\n",
    "list_1 = [322,7,21,18,45,92,99,48,33,76,79,12,2331,999,234,453,5121,477,697,452,45,889,1213,458,63]\n",
    "print(\"The length of list is\", len(list_1))\n",
    "print(\"The items which are divisble by 3 are given as follows.\") \n",
    "for item in list_1: \n",
    "    if item%3==0:\n",
    "        print(item)"
   ]
  },
  {
   "cell_type": "code",
   "execution_count": 2,
   "id": "09fc5cae-f4f1-4b89-a6e4-a5a8df7c5311",
   "metadata": {},
   "outputs": [
    {
     "name": "stdout",
     "output_type": "stream",
     "text": [
      "569.2\n",
      "[45, 459, 'Love', True]\n",
      "459\n",
      "569.2\n"
     ]
    },
    {
     "ename": "TypeError",
     "evalue": "'tuple' object does not support item assignment",
     "output_type": "error",
     "traceback": [
      "\u001b[0;31m---------------------------------------------------------------------------\u001b[0m",
      "\u001b[0;31mTypeError\u001b[0m                                 Traceback (most recent call last)",
      "Cell \u001b[0;32mIn[2], line 18\u001b[0m\n\u001b[1;32m     16\u001b[0m tuple_1 \u001b[38;5;241m=\u001b[39m (\u001b[38;5;241m45\u001b[39m,\u001b[38;5;241m569.2\u001b[39m,\u001b[38;5;124m\"\u001b[39m\u001b[38;5;124mLove\u001b[39m\u001b[38;5;124m\"\u001b[39m,\u001b[38;5;28;01mTrue\u001b[39;00m)\n\u001b[1;32m     17\u001b[0m \u001b[38;5;28mprint\u001b[39m(tuple_1[\u001b[38;5;241m1\u001b[39m])\n\u001b[0;32m---> 18\u001b[0m \u001b[43mtuple_1\u001b[49m\u001b[43m[\u001b[49m\u001b[38;5;241;43m1\u001b[39;49m\u001b[43m]\u001b[49m \u001b[38;5;241m=\u001b[39m \u001b[38;5;241m459\u001b[39m\n\u001b[1;32m     19\u001b[0m \u001b[38;5;28mprint\u001b[39m(tuple_1)\n\u001b[1;32m     20\u001b[0m \u001b[38;5;28mprint\u001b[39m(tuple_1[\u001b[38;5;241m1\u001b[39m])\n",
      "\u001b[0;31mTypeError\u001b[0m: 'tuple' object does not support item assignment"
     ]
    }
   ],
   "source": [
    "\"\"\" Q7. What do you understand about mutable and immutable data types? Give examples for both showing this property.\"\"\"\n",
    "\n",
    "# Solution: Mutable and Non-Mutable data type.\n",
    "\"\"\" Mutable data types: Mutable data types are those types of data types whose values are updated after once the value are assignend and they are list set and dictornary. For example \"\"\"\n",
    "\n",
    "List_1 = [45,569.2,\"Love\",True]\n",
    "print(List_1[1])\n",
    "List_1[1] = 459\n",
    "print(List_1)\n",
    "print(List_1[1])\n",
    "\n",
    "\"\"\"In this above given example the list is given whose name is List_1 and as we can see that the elements of given list is mutable, hence it shows the mutable property. \"\"\"\n",
    "\n",
    "\"\"\" Imutable data types: Imutable data types are those types of data types whose values are not  updated after once the value are assignend and they are tuples, int and Float. For example \"\"\"\n",
    "\n",
    "tuple_1 = (45,569.2,\"Love\",True)\n",
    "print(tuple_1[1])\n",
    "tuple_1[1] = 459\n",
    "print(tuple_1)\n",
    "print(tuple_1[1])\n",
    "\n",
    "\"\"\"In this above given example the list is given whose name is tupple_1 and as we can see that the elements of given tupple is mutable, and it shows eroor when we want to update it, hence it shows the immutable property.\n",
    "Hence we can say that the tupples are immuatble. \"\"\"\n"
   ]
  },
  {
   "cell_type": "code",
   "execution_count": 2,
   "id": "e32cf0db-c52f-4719-b972-8bc7e60f5a29",
   "metadata": {},
   "outputs": [
    {
     "name": "stdin",
     "output_type": "stream",
     "text": [
      "Enter the number A:  58\n",
      "Enter the number B:  2\n"
     ]
    },
    {
     "name": "stdout",
     "output_type": "stream",
     "text": [
      "Number A is divisible by B\n",
      "It can be divided 1 times\n"
     ]
    }
   ],
   "source": [
    "\"\"\" Q5. Using a while loop, verify if the number A is purely divisible by number B and if so then how many times it can be divisible.\"\"\"\n",
    "\n",
    "#Solution: \n",
    "\n",
    "A = int(input(\"Enter the number A: \"))\n",
    "B = int(input(\"Enter the number B: \"))\n",
    "\n",
    "count = 0  # Variable to count the number of divisions\n",
    "\n",
    "while A % B == 0:\n",
    "    A /= B\n",
    "    count += 1\n",
    "\n",
    "if count > 0:\n",
    "    print(\"Number A is divisible by B\")\n",
    "    print(\"It can be divided\", count, \"times\")\n",
    "else:\n",
    "    print(\"Number A is not divisible by B\")\n"
   ]
  },
  {
   "cell_type": "code",
   "execution_count": null,
   "id": "7fb46713-c2fc-4602-a7c9-f9974ec81988",
   "metadata": {},
   "outputs": [],
   "source": []
  }
 ],
 "metadata": {
  "kernelspec": {
   "display_name": "Python 3 (ipykernel)",
   "language": "python",
   "name": "python3"
  },
  "language_info": {
   "codemirror_mode": {
    "name": "ipython",
    "version": 3
   },
   "file_extension": ".py",
   "mimetype": "text/x-python",
   "name": "python",
   "nbconvert_exporter": "python",
   "pygments_lexer": "ipython3",
   "version": "3.10.8"
  }
 },
 "nbformat": 4,
 "nbformat_minor": 5
}
